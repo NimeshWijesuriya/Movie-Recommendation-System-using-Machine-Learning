{
 "cells": [
  {
   "cell_type": "code",
   "execution_count": 1,
   "id": "1604b73b",
   "metadata": {},
   "outputs": [],
   "source": [
    "import numpy as np\n",
    "import pandas as pd\n",
    "import difflib\n",
    "from sklearn.feature_extraction.text import TfidfVectorizer\n",
    "from sklearn.metrics.pairwise import cosine_similarity"
   ]
  },
  {
   "cell_type": "code",
   "execution_count": 3,
   "id": "4e9b8a49",
   "metadata": {},
   "outputs": [],
   "source": [
    "data=pd.read_csv('movies.csv')"
   ]
  },
  {
   "cell_type": "code",
   "execution_count": 4,
   "id": "abea987c",
   "metadata": {},
   "outputs": [
    {
     "data": {
      "text/html": [
       "<div>\n",
       "<style scoped>\n",
       "    .dataframe tbody tr th:only-of-type {\n",
       "        vertical-align: middle;\n",
       "    }\n",
       "\n",
       "    .dataframe tbody tr th {\n",
       "        vertical-align: top;\n",
       "    }\n",
       "\n",
       "    .dataframe thead th {\n",
       "        text-align: right;\n",
       "    }\n",
       "</style>\n",
       "<table border=\"1\" class=\"dataframe\">\n",
       "  <thead>\n",
       "    <tr style=\"text-align: right;\">\n",
       "      <th></th>\n",
       "      <th>index</th>\n",
       "      <th>budget</th>\n",
       "      <th>genres</th>\n",
       "      <th>homepage</th>\n",
       "      <th>id</th>\n",
       "      <th>keywords</th>\n",
       "      <th>original_language</th>\n",
       "      <th>original_title</th>\n",
       "      <th>overview</th>\n",
       "      <th>popularity</th>\n",
       "      <th>...</th>\n",
       "      <th>runtime</th>\n",
       "      <th>spoken_languages</th>\n",
       "      <th>status</th>\n",
       "      <th>tagline</th>\n",
       "      <th>title</th>\n",
       "      <th>vote_average</th>\n",
       "      <th>vote_count</th>\n",
       "      <th>cast</th>\n",
       "      <th>crew</th>\n",
       "      <th>director</th>\n",
       "    </tr>\n",
       "  </thead>\n",
       "  <tbody>\n",
       "    <tr>\n",
       "      <th>0</th>\n",
       "      <td>0</td>\n",
       "      <td>237000000</td>\n",
       "      <td>Action Adventure Fantasy Science Fiction</td>\n",
       "      <td>http://www.avatarmovie.com/</td>\n",
       "      <td>19995</td>\n",
       "      <td>culture clash future space war space colony so...</td>\n",
       "      <td>en</td>\n",
       "      <td>Avatar</td>\n",
       "      <td>In the 22nd century, a paraplegic Marine is di...</td>\n",
       "      <td>150.437577</td>\n",
       "      <td>...</td>\n",
       "      <td>162.0</td>\n",
       "      <td>[{\"iso_639_1\": \"en\", \"name\": \"English\"}, {\"iso...</td>\n",
       "      <td>Released</td>\n",
       "      <td>Enter the World of Pandora.</td>\n",
       "      <td>Avatar</td>\n",
       "      <td>7.2</td>\n",
       "      <td>11800</td>\n",
       "      <td>Sam Worthington Zoe Saldana Sigourney Weaver S...</td>\n",
       "      <td>[{'name': 'Stephen E. Rivkin', 'gender': 0, 'd...</td>\n",
       "      <td>James Cameron</td>\n",
       "    </tr>\n",
       "    <tr>\n",
       "      <th>1</th>\n",
       "      <td>1</td>\n",
       "      <td>300000000</td>\n",
       "      <td>Adventure Fantasy Action</td>\n",
       "      <td>http://disney.go.com/disneypictures/pirates/</td>\n",
       "      <td>285</td>\n",
       "      <td>ocean drug abuse exotic island east india trad...</td>\n",
       "      <td>en</td>\n",
       "      <td>Pirates of the Caribbean: At World's End</td>\n",
       "      <td>Captain Barbossa, long believed to be dead, ha...</td>\n",
       "      <td>139.082615</td>\n",
       "      <td>...</td>\n",
       "      <td>169.0</td>\n",
       "      <td>[{\"iso_639_1\": \"en\", \"name\": \"English\"}]</td>\n",
       "      <td>Released</td>\n",
       "      <td>At the end of the world, the adventure begins.</td>\n",
       "      <td>Pirates of the Caribbean: At World's End</td>\n",
       "      <td>6.9</td>\n",
       "      <td>4500</td>\n",
       "      <td>Johnny Depp Orlando Bloom Keira Knightley Stel...</td>\n",
       "      <td>[{'name': 'Dariusz Wolski', 'gender': 2, 'depa...</td>\n",
       "      <td>Gore Verbinski</td>\n",
       "    </tr>\n",
       "    <tr>\n",
       "      <th>2</th>\n",
       "      <td>2</td>\n",
       "      <td>245000000</td>\n",
       "      <td>Action Adventure Crime</td>\n",
       "      <td>http://www.sonypictures.com/movies/spectre/</td>\n",
       "      <td>206647</td>\n",
       "      <td>spy based on novel secret agent sequel mi6</td>\n",
       "      <td>en</td>\n",
       "      <td>Spectre</td>\n",
       "      <td>A cryptic message from Bond’s past sends him o...</td>\n",
       "      <td>107.376788</td>\n",
       "      <td>...</td>\n",
       "      <td>148.0</td>\n",
       "      <td>[{\"iso_639_1\": \"fr\", \"name\": \"Fran\\u00e7ais\"},...</td>\n",
       "      <td>Released</td>\n",
       "      <td>A Plan No One Escapes</td>\n",
       "      <td>Spectre</td>\n",
       "      <td>6.3</td>\n",
       "      <td>4466</td>\n",
       "      <td>Daniel Craig Christoph Waltz L\\u00e9a Seydoux ...</td>\n",
       "      <td>[{'name': 'Thomas Newman', 'gender': 2, 'depar...</td>\n",
       "      <td>Sam Mendes</td>\n",
       "    </tr>\n",
       "    <tr>\n",
       "      <th>3</th>\n",
       "      <td>3</td>\n",
       "      <td>250000000</td>\n",
       "      <td>Action Crime Drama Thriller</td>\n",
       "      <td>http://www.thedarkknightrises.com/</td>\n",
       "      <td>49026</td>\n",
       "      <td>dc comics crime fighter terrorist secret ident...</td>\n",
       "      <td>en</td>\n",
       "      <td>The Dark Knight Rises</td>\n",
       "      <td>Following the death of District Attorney Harve...</td>\n",
       "      <td>112.312950</td>\n",
       "      <td>...</td>\n",
       "      <td>165.0</td>\n",
       "      <td>[{\"iso_639_1\": \"en\", \"name\": \"English\"}]</td>\n",
       "      <td>Released</td>\n",
       "      <td>The Legend Ends</td>\n",
       "      <td>The Dark Knight Rises</td>\n",
       "      <td>7.6</td>\n",
       "      <td>9106</td>\n",
       "      <td>Christian Bale Michael Caine Gary Oldman Anne ...</td>\n",
       "      <td>[{'name': 'Hans Zimmer', 'gender': 2, 'departm...</td>\n",
       "      <td>Christopher Nolan</td>\n",
       "    </tr>\n",
       "    <tr>\n",
       "      <th>4</th>\n",
       "      <td>4</td>\n",
       "      <td>260000000</td>\n",
       "      <td>Action Adventure Science Fiction</td>\n",
       "      <td>http://movies.disney.com/john-carter</td>\n",
       "      <td>49529</td>\n",
       "      <td>based on novel mars medallion space travel pri...</td>\n",
       "      <td>en</td>\n",
       "      <td>John Carter</td>\n",
       "      <td>John Carter is a war-weary, former military ca...</td>\n",
       "      <td>43.926995</td>\n",
       "      <td>...</td>\n",
       "      <td>132.0</td>\n",
       "      <td>[{\"iso_639_1\": \"en\", \"name\": \"English\"}]</td>\n",
       "      <td>Released</td>\n",
       "      <td>Lost in our world, found in another.</td>\n",
       "      <td>John Carter</td>\n",
       "      <td>6.1</td>\n",
       "      <td>2124</td>\n",
       "      <td>Taylor Kitsch Lynn Collins Samantha Morton Wil...</td>\n",
       "      <td>[{'name': 'Andrew Stanton', 'gender': 2, 'depa...</td>\n",
       "      <td>Andrew Stanton</td>\n",
       "    </tr>\n",
       "  </tbody>\n",
       "</table>\n",
       "<p>5 rows × 24 columns</p>\n",
       "</div>"
      ],
      "text/plain": [
       "   index     budget                                    genres  \\\n",
       "0      0  237000000  Action Adventure Fantasy Science Fiction   \n",
       "1      1  300000000                  Adventure Fantasy Action   \n",
       "2      2  245000000                    Action Adventure Crime   \n",
       "3      3  250000000               Action Crime Drama Thriller   \n",
       "4      4  260000000          Action Adventure Science Fiction   \n",
       "\n",
       "                                       homepage      id  \\\n",
       "0                   http://www.avatarmovie.com/   19995   \n",
       "1  http://disney.go.com/disneypictures/pirates/     285   \n",
       "2   http://www.sonypictures.com/movies/spectre/  206647   \n",
       "3            http://www.thedarkknightrises.com/   49026   \n",
       "4          http://movies.disney.com/john-carter   49529   \n",
       "\n",
       "                                            keywords original_language  \\\n",
       "0  culture clash future space war space colony so...                en   \n",
       "1  ocean drug abuse exotic island east india trad...                en   \n",
       "2         spy based on novel secret agent sequel mi6                en   \n",
       "3  dc comics crime fighter terrorist secret ident...                en   \n",
       "4  based on novel mars medallion space travel pri...                en   \n",
       "\n",
       "                             original_title  \\\n",
       "0                                    Avatar   \n",
       "1  Pirates of the Caribbean: At World's End   \n",
       "2                                   Spectre   \n",
       "3                     The Dark Knight Rises   \n",
       "4                               John Carter   \n",
       "\n",
       "                                            overview  popularity  ... runtime  \\\n",
       "0  In the 22nd century, a paraplegic Marine is di...  150.437577  ...   162.0   \n",
       "1  Captain Barbossa, long believed to be dead, ha...  139.082615  ...   169.0   \n",
       "2  A cryptic message from Bond’s past sends him o...  107.376788  ...   148.0   \n",
       "3  Following the death of District Attorney Harve...  112.312950  ...   165.0   \n",
       "4  John Carter is a war-weary, former military ca...   43.926995  ...   132.0   \n",
       "\n",
       "                                    spoken_languages    status  \\\n",
       "0  [{\"iso_639_1\": \"en\", \"name\": \"English\"}, {\"iso...  Released   \n",
       "1           [{\"iso_639_1\": \"en\", \"name\": \"English\"}]  Released   \n",
       "2  [{\"iso_639_1\": \"fr\", \"name\": \"Fran\\u00e7ais\"},...  Released   \n",
       "3           [{\"iso_639_1\": \"en\", \"name\": \"English\"}]  Released   \n",
       "4           [{\"iso_639_1\": \"en\", \"name\": \"English\"}]  Released   \n",
       "\n",
       "                                          tagline  \\\n",
       "0                     Enter the World of Pandora.   \n",
       "1  At the end of the world, the adventure begins.   \n",
       "2                           A Plan No One Escapes   \n",
       "3                                 The Legend Ends   \n",
       "4            Lost in our world, found in another.   \n",
       "\n",
       "                                      title vote_average vote_count  \\\n",
       "0                                    Avatar          7.2      11800   \n",
       "1  Pirates of the Caribbean: At World's End          6.9       4500   \n",
       "2                                   Spectre          6.3       4466   \n",
       "3                     The Dark Knight Rises          7.6       9106   \n",
       "4                               John Carter          6.1       2124   \n",
       "\n",
       "                                                cast  \\\n",
       "0  Sam Worthington Zoe Saldana Sigourney Weaver S...   \n",
       "1  Johnny Depp Orlando Bloom Keira Knightley Stel...   \n",
       "2  Daniel Craig Christoph Waltz L\\u00e9a Seydoux ...   \n",
       "3  Christian Bale Michael Caine Gary Oldman Anne ...   \n",
       "4  Taylor Kitsch Lynn Collins Samantha Morton Wil...   \n",
       "\n",
       "                                                crew           director  \n",
       "0  [{'name': 'Stephen E. Rivkin', 'gender': 0, 'd...      James Cameron  \n",
       "1  [{'name': 'Dariusz Wolski', 'gender': 2, 'depa...     Gore Verbinski  \n",
       "2  [{'name': 'Thomas Newman', 'gender': 2, 'depar...         Sam Mendes  \n",
       "3  [{'name': 'Hans Zimmer', 'gender': 2, 'departm...  Christopher Nolan  \n",
       "4  [{'name': 'Andrew Stanton', 'gender': 2, 'depa...     Andrew Stanton  \n",
       "\n",
       "[5 rows x 24 columns]"
      ]
     },
     "execution_count": 4,
     "metadata": {},
     "output_type": "execute_result"
    }
   ],
   "source": [
    "data.head()"
   ]
  },
  {
   "cell_type": "code",
   "execution_count": 5,
   "id": "f408cf87",
   "metadata": {},
   "outputs": [
    {
     "data": {
      "text/plain": [
       "(4803, 24)"
      ]
     },
     "execution_count": 5,
     "metadata": {},
     "output_type": "execute_result"
    }
   ],
   "source": [
    "data.shape"
   ]
  },
  {
   "cell_type": "code",
   "execution_count": 6,
   "id": "7f43a58e",
   "metadata": {},
   "outputs": [],
   "source": [
    "#selecting the relevant features for recommendation"
   ]
  },
  {
   "cell_type": "code",
   "execution_count": 12,
   "id": "5204cba3",
   "metadata": {},
   "outputs": [],
   "source": [
    "selected_features=data[['genres','keywords','tagline','cast','director']]"
   ]
  },
  {
   "cell_type": "code",
   "execution_count": 13,
   "id": "e9061985",
   "metadata": {},
   "outputs": [
    {
     "data": {
      "text/html": [
       "<div>\n",
       "<style scoped>\n",
       "    .dataframe tbody tr th:only-of-type {\n",
       "        vertical-align: middle;\n",
       "    }\n",
       "\n",
       "    .dataframe tbody tr th {\n",
       "        vertical-align: top;\n",
       "    }\n",
       "\n",
       "    .dataframe thead th {\n",
       "        text-align: right;\n",
       "    }\n",
       "</style>\n",
       "<table border=\"1\" class=\"dataframe\">\n",
       "  <thead>\n",
       "    <tr style=\"text-align: right;\">\n",
       "      <th></th>\n",
       "      <th>genres</th>\n",
       "      <th>keywords</th>\n",
       "      <th>tagline</th>\n",
       "      <th>cast</th>\n",
       "      <th>director</th>\n",
       "    </tr>\n",
       "  </thead>\n",
       "  <tbody>\n",
       "    <tr>\n",
       "      <th>0</th>\n",
       "      <td>Action Adventure Fantasy Science Fiction</td>\n",
       "      <td>culture clash future space war space colony so...</td>\n",
       "      <td>Enter the World of Pandora.</td>\n",
       "      <td>Sam Worthington Zoe Saldana Sigourney Weaver S...</td>\n",
       "      <td>James Cameron</td>\n",
       "    </tr>\n",
       "    <tr>\n",
       "      <th>1</th>\n",
       "      <td>Adventure Fantasy Action</td>\n",
       "      <td>ocean drug abuse exotic island east india trad...</td>\n",
       "      <td>At the end of the world, the adventure begins.</td>\n",
       "      <td>Johnny Depp Orlando Bloom Keira Knightley Stel...</td>\n",
       "      <td>Gore Verbinski</td>\n",
       "    </tr>\n",
       "    <tr>\n",
       "      <th>2</th>\n",
       "      <td>Action Adventure Crime</td>\n",
       "      <td>spy based on novel secret agent sequel mi6</td>\n",
       "      <td>A Plan No One Escapes</td>\n",
       "      <td>Daniel Craig Christoph Waltz L\\u00e9a Seydoux ...</td>\n",
       "      <td>Sam Mendes</td>\n",
       "    </tr>\n",
       "    <tr>\n",
       "      <th>3</th>\n",
       "      <td>Action Crime Drama Thriller</td>\n",
       "      <td>dc comics crime fighter terrorist secret ident...</td>\n",
       "      <td>The Legend Ends</td>\n",
       "      <td>Christian Bale Michael Caine Gary Oldman Anne ...</td>\n",
       "      <td>Christopher Nolan</td>\n",
       "    </tr>\n",
       "    <tr>\n",
       "      <th>4</th>\n",
       "      <td>Action Adventure Science Fiction</td>\n",
       "      <td>based on novel mars medallion space travel pri...</td>\n",
       "      <td>Lost in our world, found in another.</td>\n",
       "      <td>Taylor Kitsch Lynn Collins Samantha Morton Wil...</td>\n",
       "      <td>Andrew Stanton</td>\n",
       "    </tr>\n",
       "  </tbody>\n",
       "</table>\n",
       "</div>"
      ],
      "text/plain": [
       "                                     genres  \\\n",
       "0  Action Adventure Fantasy Science Fiction   \n",
       "1                  Adventure Fantasy Action   \n",
       "2                    Action Adventure Crime   \n",
       "3               Action Crime Drama Thriller   \n",
       "4          Action Adventure Science Fiction   \n",
       "\n",
       "                                            keywords  \\\n",
       "0  culture clash future space war space colony so...   \n",
       "1  ocean drug abuse exotic island east india trad...   \n",
       "2         spy based on novel secret agent sequel mi6   \n",
       "3  dc comics crime fighter terrorist secret ident...   \n",
       "4  based on novel mars medallion space travel pri...   \n",
       "\n",
       "                                          tagline  \\\n",
       "0                     Enter the World of Pandora.   \n",
       "1  At the end of the world, the adventure begins.   \n",
       "2                           A Plan No One Escapes   \n",
       "3                                 The Legend Ends   \n",
       "4            Lost in our world, found in another.   \n",
       "\n",
       "                                                cast           director  \n",
       "0  Sam Worthington Zoe Saldana Sigourney Weaver S...      James Cameron  \n",
       "1  Johnny Depp Orlando Bloom Keira Knightley Stel...     Gore Verbinski  \n",
       "2  Daniel Craig Christoph Waltz L\\u00e9a Seydoux ...         Sam Mendes  \n",
       "3  Christian Bale Michael Caine Gary Oldman Anne ...  Christopher Nolan  \n",
       "4  Taylor Kitsch Lynn Collins Samantha Morton Wil...     Andrew Stanton  "
      ]
     },
     "execution_count": 13,
     "metadata": {},
     "output_type": "execute_result"
    }
   ],
   "source": [
    "selected_features.head()"
   ]
  },
  {
   "cell_type": "code",
   "execution_count": 8,
   "id": "f87f9361",
   "metadata": {},
   "outputs": [],
   "source": [
    "#replacing the null values with null string"
   ]
  },
  {
   "cell_type": "code",
   "execution_count": 28,
   "id": "33ac7c6a",
   "metadata": {},
   "outputs": [
    {
     "data": {
      "text/plain": [
       "genres       28\n",
       "keywords    412\n",
       "tagline     844\n",
       "cast         43\n",
       "director     30\n",
       "dtype: int64"
      ]
     },
     "execution_count": 28,
     "metadata": {},
     "output_type": "execute_result"
    }
   ],
   "source": [
    "selected_features.isnull().sum()    "
   ]
  },
  {
   "cell_type": "code",
   "execution_count": 29,
   "id": "14e08cff",
   "metadata": {},
   "outputs": [],
   "source": [
    "selected_features=selected_features.fillna(\" \")"
   ]
  },
  {
   "cell_type": "code",
   "execution_count": 32,
   "id": "2be07f0b",
   "metadata": {},
   "outputs": [
    {
     "data": {
      "text/plain": [
       "genres      0\n",
       "keywords    0\n",
       "tagline     0\n",
       "cast        0\n",
       "director    0\n",
       "dtype: int64"
      ]
     },
     "execution_count": 32,
     "metadata": {},
     "output_type": "execute_result"
    }
   ],
   "source": [
    "selected_features.isnull().sum()"
   ]
  },
  {
   "cell_type": "code",
   "execution_count": 33,
   "id": "a420ffd7",
   "metadata": {},
   "outputs": [],
   "source": [
    "#combined all textual features"
   ]
  },
  {
   "cell_type": "code",
   "execution_count": 34,
   "id": "8d727ef7",
   "metadata": {},
   "outputs": [],
   "source": [
    "combined_features=selected_features['genres']+ ' '+ selected_features['keywords']+ ' ' +selected_features['tagline']+' '+selected_features['cast']+' '+selected_features['director']"
   ]
  },
  {
   "cell_type": "code",
   "execution_count": 35,
   "id": "4e0c0f2e",
   "metadata": {},
   "outputs": [
    {
     "data": {
      "text/plain": [
       "0       Action Adventure Fantasy Science Fiction cultu...\n",
       "1       Adventure Fantasy Action ocean drug abuse exot...\n",
       "2       Action Adventure Crime spy based on novel secr...\n",
       "3       Action Crime Drama Thriller dc comics crime fi...\n",
       "4       Action Adventure Science Fiction based on nove...\n",
       "                              ...                        \n",
       "4798    Action Crime Thriller united states\\u2013mexic...\n",
       "4799    Comedy Romance   A newlywed couple's honeymoon...\n",
       "4800    Comedy Drama Romance TV Movie date love at fir...\n",
       "4801        A New Yorker in Shanghai Daniel Henney Eli...\n",
       "4802    Documentary obsession camcorder crush dream gi...\n",
       "Length: 4803, dtype: object"
      ]
     },
     "execution_count": 35,
     "metadata": {},
     "output_type": "execute_result"
    }
   ],
   "source": [
    "combined_features"
   ]
  },
  {
   "cell_type": "code",
   "execution_count": 36,
   "id": "4053daef",
   "metadata": {},
   "outputs": [],
   "source": [
    "#converting the text data to feature vectors"
   ]
  },
  {
   "cell_type": "code",
   "execution_count": 37,
   "id": "34a22039",
   "metadata": {},
   "outputs": [],
   "source": [
    "vectorizer=TfidfVectorizer()"
   ]
  },
  {
   "cell_type": "code",
   "execution_count": 38,
   "id": "0d6f6f8f",
   "metadata": {},
   "outputs": [],
   "source": [
    "vectorized_features=vectorizer.fit_transform(combined_features)"
   ]
  },
  {
   "cell_type": "code",
   "execution_count": 95,
   "id": "f8b493cb",
   "metadata": {},
   "outputs": [
    {
     "name": "stdout",
     "output_type": "stream",
     "text": [
      "  (0, 2432)\t0.17272411194153\n",
      "  (0, 7755)\t0.1128035714854756\n",
      "  (0, 13024)\t0.1942362060108871\n",
      "  (0, 10229)\t0.16058685400095302\n",
      "  (0, 8756)\t0.22709015857011816\n",
      "  (0, 14608)\t0.15150672398763912\n",
      "  (0, 16668)\t0.19843263965100372\n",
      "  (0, 14064)\t0.20596090415084142\n",
      "  (0, 13319)\t0.2177470539412484\n",
      "  (0, 17290)\t0.20197912553916567\n",
      "  (0, 17007)\t0.23643326319898797\n",
      "  (0, 13349)\t0.15021264094167086\n",
      "  (0, 11503)\t0.27211310056983656\n",
      "  (0, 11192)\t0.09049319826481456\n",
      "  (0, 16998)\t0.1282126322850579\n",
      "  (0, 15261)\t0.07095833561276566\n",
      "  (0, 4945)\t0.24025852494110758\n",
      "  (0, 14271)\t0.21392179219912877\n",
      "  (0, 3225)\t0.24960162956997736\n",
      "  (0, 16587)\t0.12549432354918996\n",
      "  (0, 14378)\t0.33962752210959823\n",
      "  (0, 5836)\t0.1646750903586285\n",
      "  (0, 3065)\t0.22208377802661425\n",
      "  (0, 3678)\t0.21392179219912877\n",
      "  (0, 5437)\t0.1036413987316636\n",
      "  :\t:\n",
      "  (4801, 17266)\t0.2886098184932947\n",
      "  (4801, 4835)\t0.24713765026963996\n",
      "  (4801, 403)\t0.17727585190343226\n",
      "  (4801, 6935)\t0.2886098184932947\n",
      "  (4801, 11663)\t0.21557500762727902\n",
      "  (4801, 1672)\t0.1564793427630879\n",
      "  (4801, 10929)\t0.13504166990041588\n",
      "  (4801, 7474)\t0.11307961713172225\n",
      "  (4801, 3796)\t0.3342808988877418\n",
      "  (4802, 6996)\t0.5700048226105303\n",
      "  (4802, 5367)\t0.22969114490410403\n",
      "  (4802, 3654)\t0.262512960498006\n",
      "  (4802, 2425)\t0.24002350969074696\n",
      "  (4802, 4608)\t0.24002350969074696\n",
      "  (4802, 6417)\t0.21753405888348784\n",
      "  (4802, 4371)\t0.1538239182675544\n",
      "  (4802, 12989)\t0.1696476532191718\n",
      "  (4802, 1316)\t0.1960747079005741\n",
      "  (4802, 4528)\t0.19504460807622875\n",
      "  (4802, 3436)\t0.21753405888348784\n",
      "  (4802, 6155)\t0.18056463596934083\n",
      "  (4802, 4980)\t0.16078053641367315\n",
      "  (4802, 2129)\t0.3099656128577656\n",
      "  (4802, 4518)\t0.16784466610624255\n",
      "  (4802, 11161)\t0.17867407682173203\n"
     ]
    }
   ],
   "source": [
    "print(vectorized_features) "
   ]
  },
  {
   "cell_type": "markdown",
   "id": "a6260c6c",
   "metadata": {},
   "source": [
    "# Cosine Similarity"
   ]
  },
  {
   "cell_type": "code",
   "execution_count": 41,
   "id": "4d0e7b6c",
   "metadata": {},
   "outputs": [],
   "source": [
    "#getting the similarity scores"
   ]
  },
  {
   "cell_type": "code",
   "execution_count": 43,
   "id": "97c4c0cd",
   "metadata": {},
   "outputs": [],
   "source": [
    "cosine_similarity=cosine_similarity(vectorized_features)"
   ]
  },
  {
   "cell_type": "code",
   "execution_count": 44,
   "id": "fa892bb8",
   "metadata": {},
   "outputs": [
    {
     "data": {
      "text/plain": [
       "array([[1.        , 0.07219487, 0.037733  , ..., 0.        , 0.        ,\n",
       "        0.        ],\n",
       "       [0.07219487, 1.        , 0.03281499, ..., 0.03575545, 0.        ,\n",
       "        0.        ],\n",
       "       [0.037733  , 0.03281499, 1.        , ..., 0.        , 0.05389661,\n",
       "        0.        ],\n",
       "       ...,\n",
       "       [0.        , 0.03575545, 0.        , ..., 1.        , 0.        ,\n",
       "        0.02651502],\n",
       "       [0.        , 0.        , 0.05389661, ..., 0.        , 1.        ,\n",
       "        0.        ],\n",
       "       [0.        , 0.        , 0.        , ..., 0.02651502, 0.        ,\n",
       "        1.        ]])"
      ]
     },
     "execution_count": 44,
     "metadata": {},
     "output_type": "execute_result"
    }
   ],
   "source": [
    "cosine_similarity"
   ]
  },
  {
   "cell_type": "code",
   "execution_count": 45,
   "id": "c382ce49",
   "metadata": {},
   "outputs": [
    {
     "data": {
      "text/plain": [
       "(4803, 4803)"
      ]
     },
     "execution_count": 45,
     "metadata": {},
     "output_type": "execute_result"
    }
   ],
   "source": [
    "cosine_similarity.shape"
   ]
  },
  {
   "cell_type": "markdown",
   "id": "4b952f0a",
   "metadata": {},
   "source": [
    "# Getting the movie name from the user"
   ]
  },
  {
   "cell_type": "code",
   "execution_count": 51,
   "id": "da35260d",
   "metadata": {},
   "outputs": [
    {
     "name": "stdout",
     "output_type": "stream",
     "text": [
      "Enter your favorite movie  :bat man\n"
     ]
    }
   ],
   "source": [
    "movie_name=input('Enter your favorite movie  :')"
   ]
  },
  {
   "cell_type": "code",
   "execution_count": 52,
   "id": "69c4ba71",
   "metadata": {},
   "outputs": [],
   "source": [
    "#creating a list with all name of movies in the dataset"
   ]
  },
  {
   "cell_type": "code",
   "execution_count": 55,
   "id": "ed3fa31a",
   "metadata": {},
   "outputs": [],
   "source": [
    "movie_list=data['title'].tolist()"
   ]
  },
  {
   "cell_type": "code",
   "execution_count": 102,
   "id": "0bf9ec68",
   "metadata": {},
   "outputs": [
    {
     "data": {
      "text/plain": [
       "['Avatar',\n",
       " \"Pirates of the Caribbean: At World's End\",\n",
       " 'Spectre',\n",
       " 'The Dark Knight Rises',\n",
       " 'John Carter',\n",
       " 'Spider-Man 3',\n",
       " 'Tangled',\n",
       " 'Avengers: Age of Ultron',\n",
       " 'Harry Potter and the Half-Blood Prince',\n",
       " 'Batman v Superman: Dawn of Justice',\n",
       " 'Superman Returns',\n",
       " 'Quantum of Solace',\n",
       " \"Pirates of the Caribbean: Dead Man's Chest\",\n",
       " 'The Lone Ranger',\n",
       " 'Man of Steel',\n",
       " 'The Chronicles of Narnia: Prince Caspian',\n",
       " 'The Avengers',\n",
       " 'Pirates of the Caribbean: On Stranger Tides',\n",
       " 'Men in Black 3',\n",
       " 'The Hobbit: The Battle of the Five Armies',\n",
       " 'The Amazing Spider-Man',\n",
       " 'Robin Hood',\n",
       " 'The Hobbit: The Desolation of Smaug',\n",
       " 'The Golden Compass',\n",
       " 'King Kong',\n",
       " 'Titanic',\n",
       " 'Captain America: Civil War',\n",
       " 'Battleship',\n",
       " 'Jurassic World',\n",
       " 'Skyfall',\n",
       " 'Spider-Man 2',\n",
       " 'Iron Man 3',\n",
       " 'Alice in Wonderland',\n",
       " 'X-Men: The Last Stand',\n",
       " 'Monsters University',\n",
       " 'Transformers: Revenge of the Fallen',\n",
       " 'Transformers: Age of Extinction',\n",
       " 'Oz: The Great and Powerful',\n",
       " 'The Amazing Spider-Man 2',\n",
       " 'TRON: Legacy',\n",
       " 'Cars 2',\n",
       " 'Green Lantern',\n",
       " 'Toy Story 3',\n",
       " 'Terminator Salvation',\n",
       " 'Furious 7',\n",
       " 'World War Z',\n",
       " 'X-Men: Days of Future Past',\n",
       " 'Star Trek Into Darkness',\n",
       " 'Jack the Giant Slayer',\n",
       " 'The Great Gatsby']"
      ]
     },
     "execution_count": 102,
     "metadata": {},
     "output_type": "execute_result"
    }
   ],
   "source": [
    "movie_list[0:50]  "
   ]
  },
  {
   "cell_type": "markdown",
   "id": "fab68f13",
   "metadata": {},
   "source": [
    "# finding the close match for the movie name given by user"
   ]
  },
  {
   "cell_type": "code",
   "execution_count": 59,
   "id": "34995183",
   "metadata": {},
   "outputs": [],
   "source": [
    "find_close_match=difflib.get_close_matches(movie_name,movie_list)"
   ]
  },
  {
   "cell_type": "code",
   "execution_count": 60,
   "id": "9f506d4d",
   "metadata": {},
   "outputs": [
    {
     "name": "stdout",
     "output_type": "stream",
     "text": [
      "['Batman', 'Batman', 'Catwoman']\n"
     ]
    }
   ],
   "source": [
    "print(find_close_match)"
   ]
  },
  {
   "cell_type": "code",
   "execution_count": 62,
   "id": "20ac1604",
   "metadata": {},
   "outputs": [],
   "source": [
    "close_match=find_close_match[0]"
   ]
  },
  {
   "cell_type": "code",
   "execution_count": 63,
   "id": "679f9330",
   "metadata": {},
   "outputs": [
    {
     "data": {
      "text/plain": [
       "'Batman'"
      ]
     },
     "execution_count": 63,
     "metadata": {},
     "output_type": "execute_result"
    }
   ],
   "source": [
    "close_match"
   ]
  },
  {
   "cell_type": "code",
   "execution_count": 64,
   "id": "55a9d5e6",
   "metadata": {},
   "outputs": [],
   "source": [
    "# finding the index of the movie with title"
   ]
  },
  {
   "cell_type": "code",
   "execution_count": 65,
   "id": "686fb859",
   "metadata": {},
   "outputs": [],
   "source": [
    "index_of_the_movie=data[data.title == close_match]['index'].values[0]"
   ]
  },
  {
   "cell_type": "code",
   "execution_count": 66,
   "id": "419a0ca3",
   "metadata": {},
   "outputs": [
    {
     "data": {
      "text/plain": [
       "1359"
      ]
     },
     "execution_count": 66,
     "metadata": {},
     "output_type": "execute_result"
    }
   ],
   "source": [
    "index_of_the_movie"
   ]
  },
  {
   "cell_type": "code",
   "execution_count": 67,
   "id": "898f5e3c",
   "metadata": {},
   "outputs": [],
   "source": [
    "#getting list of similar movies"
   ]
  },
  {
   "cell_type": "code",
   "execution_count": 75,
   "id": "ab2eb6ad",
   "metadata": {},
   "outputs": [],
   "source": [
    "similarity_score=list(enumerate(cosine_similarity[index_of_the_movie]))"
   ]
  },
  {
   "cell_type": "code",
   "execution_count": 101,
   "id": "8e592150",
   "metadata": {},
   "outputs": [
    {
     "data": {
      "text/plain": [
       "[(0, 0.06605757327786128),\n",
       " (1, 0.05494299286841542),\n",
       " (2, 0.022474655275199845),\n",
       " (3, 0.18229768118495995),\n",
       " (4, 0.04826852550842614),\n",
       " (5, 0.031153020937531885),\n",
       " (6, 0.007816453213423849),\n",
       " (7, 0.03428924698332946),\n",
       " (8, 0.020070942434549842),\n",
       " (9, 0.10380582477831074),\n",
       " (10, 0.20133128757695565),\n",
       " (11, 0.01951398074561013),\n",
       " (12, 0.025827307032424),\n",
       " (13, 0.016928223234223393),\n",
       " (14, 0.3188610536407353),\n",
       " (15, 0.018553049692010756),\n",
       " (16, 0.03251349500357992),\n",
       " (17, 0.02470681749845619),\n",
       " (18, 0.029643169623505952),\n",
       " (19, 0.04417369541584225),\n",
       " (20, 0.029947941232879607),\n",
       " (21, 0.011401180198063948),\n",
       " (22, 0.03639562527544031),\n",
       " (23, 0.025066323882186783),\n",
       " (24, 0.03654732000312345),\n",
       " (25, 0.0),\n",
       " (26, 0.03538948489610589),\n",
       " (27, 0.03529828509945782),\n",
       " (28, 0.038753351499167796),\n",
       " (29, 0.0142136220030666),\n",
       " (30, 0.025493376585254864),\n",
       " (31, 0.04277585721181915),\n",
       " (32, 0.03875437083506119),\n",
       " (33, 0.03407619761223045),\n",
       " (34, 0.0),\n",
       " (35, 0.035771481945846714),\n",
       " (36, 0.03223295986231689),\n",
       " (37, 0.020432362116956287),\n",
       " (38, 0.025815233384302975),\n",
       " (39, 0.036492247430502514),\n",
       " (40, 0.013244821920171627),\n",
       " (41, 0.10975905674983476),\n",
       " (42, 0.10149944282849166),\n",
       " (43, 0.08576604259167658),\n",
       " (44, 0.006319182166201161),\n",
       " (45, 0.06462598213154251),\n",
       " (46, 0.05309679823241051),\n",
       " (47, 0.03761158537170053),\n",
       " (48, 0.025917949138402414),\n",
       " (49, 0.003998237151396815)]"
      ]
     },
     "execution_count": 101,
     "metadata": {},
     "output_type": "execute_result"
    }
   ],
   "source": [
    "similarity_score[0:50] "
   ]
  },
  {
   "cell_type": "code",
   "execution_count": 77,
   "id": "7cd76e6a",
   "metadata": {},
   "outputs": [],
   "source": [
    "#sorting the similarity_score based on their similarity score"
   ]
  },
  {
   "cell_type": "code",
   "execution_count": 78,
   "id": "c56f6c20",
   "metadata": {},
   "outputs": [],
   "source": [
    "sorted_similarity_score=sorted(similarity_score,key=lambda x:x[1],reverse=True)"
   ]
  },
  {
   "cell_type": "code",
   "execution_count": 103,
   "id": "3d7f981b",
   "metadata": {},
   "outputs": [
    {
     "data": {
      "text/plain": [
       "[(813, 1.0),\n",
       " (870, 0.4582408553739051),\n",
       " (2433, 0.3864273245926594),\n",
       " (14, 0.3188610536407353),\n",
       " (1296, 0.2529397869699989),\n",
       " (823, 0.21578853909502327),\n",
       " (10, 0.20133128757695565),\n",
       " (428, 0.18596641221431343),\n",
       " (72, 0.18512906308616195),\n",
       " (2793, 0.18272642077822948),\n",
       " (3, 0.18229768118495995),\n",
       " (1420, 0.1727129308212663),\n",
       " (119, 0.17180650719081145),\n",
       " (65, 0.16160582880593957),\n",
       " (3337, 0.1515876731444143),\n",
       " (4401, 0.14678890114385917),\n",
       " (4267, 0.14520436352015406),\n",
       " (1359, 0.14414128303962467),\n",
       " (210, 0.14402535832262298),\n",
       " (1238, 0.1306893940867623),\n",
       " (1282, 0.12714887083401077),\n",
       " (587, 0.1257927430818875),\n",
       " (2492, 0.1253438322333649),\n",
       " (164, 0.12497636481940003),\n",
       " (1024, 0.12419846557095111),\n",
       " (4432, 0.12366856042396873),\n",
       " (1510, 0.12144757299512393),\n",
       " (1959, 0.11861641964942257),\n",
       " (1890, 0.11744412178112948),\n",
       " (955, 0.11597960277260794),\n",
       " (1183, 0.1138043381601171),\n",
       " (1740, 0.11327489168242302),\n",
       " (634, 0.11273647980632893),\n",
       " (613, 0.11245293131098388),\n",
       " (473, 0.11152736228262713),\n",
       " (3552, 0.11081484589361365),\n",
       " (41, 0.10975905674983476),\n",
       " (505, 0.10966848766340348),\n",
       " (1188, 0.10936090976553697),\n",
       " (299, 0.10881877855976649),\n",
       " (1477, 0.1080855817629384),\n",
       " (149, 0.10618963102178569),\n",
       " (1525, 0.10397516619953215),\n",
       " (9, 0.10380582477831074),\n",
       " (1358, 0.10378325738223843),\n",
       " (969, 0.10369857164487108),\n",
       " (178, 0.10161128779663497),\n",
       " (42, 0.10149944282849166),\n",
       " (1035, 0.09925170538152248),\n",
       " (93, 0.09836617663461664)]"
      ]
     },
     "execution_count": 103,
     "metadata": {},
     "output_type": "execute_result"
    }
   ],
   "source": [
    "sorted_similarity_score[0:50]"
   ]
  },
  {
   "cell_type": "code",
   "execution_count": 80,
   "id": "0a9f7353",
   "metadata": {},
   "outputs": [],
   "source": [
    "#print the name of similar movie"
   ]
  },
  {
   "cell_type": "code",
   "execution_count": 83,
   "id": "5e9932f0",
   "metadata": {},
   "outputs": [
    {
     "name": "stdout",
     "output_type": "stream",
     "text": [
      "1 . Batman\n",
      "2 . Batman Returns\n",
      "3 . Batman & Robin\n",
      "4 . The Dark Knight Rises\n",
      "5 . Batman Begins\n",
      "6 . The Dark Knight\n",
      "7 . A History of Violence\n",
      "8 . Superman\n",
      "9 . Beetlejuice\n",
      "10 . Bedazzled\n",
      "11 . Mars Attacks!\n",
      "12 . The Sentinel\n",
      "13 . Planet of the Apes\n",
      "14 . Man of Steel\n",
      "15 . Suicide Squad\n",
      "16 . The Mask\n",
      "17 . Salton Sea\n",
      "18 . Spider-Man 3\n",
      "19 . The Postman Always Rings Twice\n"
     ]
    }
   ],
   "source": [
    "i=1\n",
    "for movie in sorted_similarity_score:\n",
    "    index=movie[0]\n",
    "    tittle_of_the_movie=data[data.index == index]['title'].values[0]\n",
    "    if (i<20):\n",
    "        print(i,'.',tittle_of_the_movie)\n",
    "        i=i+1\n",
    "        "
   ]
  },
  {
   "cell_type": "markdown",
   "id": "28df57c9",
   "metadata": {},
   "source": [
    "# Movie Recommendation System"
   ]
  },
  {
   "cell_type": "code",
   "execution_count": 105,
   "id": "3be3b8bf",
   "metadata": {},
   "outputs": [
    {
     "name": "stdout",
     "output_type": "stream",
     "text": [
      "Enter your favorite movie  :spider man\n",
      "1 . Spider-Man\n",
      "2 . Spider-Man 3\n",
      "3 . Spider-Man 2\n",
      "4 . The Notebook\n",
      "5 . Seabiscuit\n",
      "6 . Clerks II\n",
      "7 . The Ice Storm\n",
      "8 . Oz: The Great and Powerful\n",
      "9 . Horrible Bosses\n",
      "10 . The Count of Monte Cristo\n",
      "11 . In Good Company\n",
      "12 . Finding Nemo\n",
      "13 . Clear and Present Danger\n",
      "14 . Brothers\n",
      "15 . The Good German\n",
      "16 . Drag Me to Hell\n",
      "17 . Bambi\n",
      "18 . The Queen\n",
      "19 . Charly\n"
     ]
    }
   ],
   "source": [
    "movie_name=input('Enter your favorite movie  :')\n",
    "find_close_match=difflib.get_close_matches(movie_name,movie_list)\n",
    "close_match=find_close_match[0]\n",
    "index_of_the_movie=data[data.title == close_match]['index'].values[0]\n",
    "similarity_score=list(enumerate(cosine_similarity[index_of_the_movie]))\n",
    "sorted_similarity_score=sorted(similarity_score,key=lambda x:x[1],reverse=True)\n",
    "i=1\n",
    "for movie in sorted_similarity_score:\n",
    "    index=movie[0]\n",
    "    tittle_of_the_movie=data[data.index == index]['title'].values[0]\n",
    "    if (i<20):\n",
    "        print(i,'.',tittle_of_the_movie)\n",
    "        i=i+1"
   ]
  },
  {
   "cell_type": "code",
   "execution_count": null,
   "id": "4ffbe397",
   "metadata": {},
   "outputs": [],
   "source": []
  }
 ],
 "metadata": {
  "kernelspec": {
   "display_name": "Python 3 (ipykernel)",
   "language": "python",
   "name": "python3"
  },
  "language_info": {
   "codemirror_mode": {
    "name": "ipython",
    "version": 3
   },
   "file_extension": ".py",
   "mimetype": "text/x-python",
   "name": "python",
   "nbconvert_exporter": "python",
   "pygments_lexer": "ipython3",
   "version": "3.10.9"
  }
 },
 "nbformat": 4,
 "nbformat_minor": 5
}
